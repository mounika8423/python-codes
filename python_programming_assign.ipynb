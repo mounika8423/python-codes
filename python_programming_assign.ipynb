{
  "nbformat": 4,
  "nbformat_minor": 0,
  "metadata": {
    "colab": {
      "provenance": [],
      "authorship_tag": "ABX9TyP4fcZK7Ve+WNq2hdSmM4Bc",
      "include_colab_link": true
    },
    "kernelspec": {
      "name": "python3",
      "display_name": "Python 3"
    },
    "language_info": {
      "name": "python"
    }
  },
  "cells": [
    {
      "cell_type": "markdown",
      "metadata": {
        "id": "view-in-github",
        "colab_type": "text"
      },
      "source": [
        "<a href=\"https://colab.research.google.com/github/mounika8423/python-codes/blob/main/python_programming_assign.ipynb\" target=\"_parent\"><img src=\"https://colab.research.google.com/assets/colab-badge.svg\" alt=\"Open In Colab\"/></a>"
      ]
    },
    {
      "cell_type": "code",
      "execution_count": 5,
      "metadata": {
        "colab": {
          "base_uri": "https://localhost:8080/"
        },
        "id": "huvY_GoZSB5d",
        "outputId": "01c27e81-feb5-4591-85a9-3c927164efea"
      },
      "outputs": [
        {
          "output_type": "stream",
          "name": "stdout",
          "text": [
            "enter number4\n",
            "not prime\n"
          ]
        }
      ],
      "source": [
        "#prime\n",
        "\n",
        "n=int(input(\"enter number\"))\n",
        "for i in range(2,n//2+1):\n",
        "  if(n%i==0):\n",
        "    print(\"not prime\")\n",
        "    break\n",
        "else:\n",
        "  print(\"prime\")\n"
      ]
    },
    {
      "cell_type": "code",
      "source": [
        "#product of random numbers\n",
        "import numpy as np\n",
        "n1=np.random.randint(100)\n",
        "print(n1)\n",
        "n2=np.random.randint(100)\n",
        "print(n2)\n",
        "p=n1*n2\n",
        "print(p)"
      ],
      "metadata": {
        "colab": {
          "base_uri": "https://localhost:8080/"
        },
        "id": "qIlBX9XSSdao",
        "outputId": "393123b4-4f97-4157-a6b4-1dc617884a40"
      },
      "execution_count": 9,
      "outputs": [
        {
          "output_type": "stream",
          "name": "stdout",
          "text": [
            "56\n",
            "54\n",
            "3024\n"
          ]
        }
      ]
    },
    {
      "cell_type": "code",
      "source": [
        "#sum of squares of odd or even numbers within the range of 100 to 200\n",
        "\n",
        "n=int(input(\"select 1 for odd number squares and 2 for even number squares\"))\n",
        "s=0\n",
        "for i in range(100,201):\n",
        "  if(n==1):\n",
        "    if(i%2==1):\n",
        "      s=s+i*i\n",
        "  else:\n",
        "    if(i%2==0):\n",
        "      s+=i*i\n",
        "print(s)"
      ],
      "metadata": {
        "colab": {
          "base_uri": "https://localhost:8080/"
        },
        "id": "KCocn_LOTYor",
        "outputId": "c391b785-7b51-4dab-fe6f-788be1b118a5"
      },
      "execution_count": 12,
      "outputs": [
        {
          "output_type": "stream",
          "name": "stdout",
          "text": [
            "select 1 for odd number squares and 2 for even number squares2\n",
            "1191700\n"
          ]
        }
      ]
    },
    {
      "cell_type": "code",
      "source": [
        "#program to count number of words in a given text\n",
        "#this program is by using set\n",
        "s=input('enter a sentence')\n",
        "l=s.split()\n",
        "print(l)\n",
        "\n",
        "s=set()\n",
        "for i in l:\n",
        "  if i not in s:\n",
        "    print(i,l.count(i))\n",
        "    s.add(i)"
      ],
      "metadata": {
        "colab": {
          "base_uri": "https://localhost:8080/"
        },
        "id": "z2u1JxgyU5fj",
        "outputId": "326085c2-0cff-4659-fd47-70cf6189253e"
      },
      "execution_count": 34,
      "outputs": [
        {
          "output_type": "stream",
          "name": "stdout",
          "text": [
            "enter a sentencei am mounika i am currently pursuing my mtech\n",
            "['i', 'am', 'mounika', 'i', 'am', 'currently', 'pursuing', 'my', 'mtech']\n",
            "i 2\n",
            "am 2\n",
            "mounika 1\n",
            "currently 1\n",
            "pursuing 1\n",
            "my 1\n",
            "mtech 1\n"
          ]
        }
      ]
    },
    {
      "cell_type": "code",
      "source": [
        "#program to count number of words in a given text\n",
        "#this program is by using dictionary\n",
        "\n",
        "s=input('enter a sentence')\n",
        "l=s.split()\n",
        "\n",
        "d={}\n",
        "\n",
        "for i in l:\n",
        "  if i in d:\n",
        "    d[i]+=1\n",
        "  else:\n",
        "    d[i]=1\n",
        "\n",
        "for i,j in d.items():\n",
        "  print(i,j)"
      ],
      "metadata": {
        "colab": {
          "base_uri": "https://localhost:8080/"
        },
        "id": "z9NXGpFPbJZp",
        "outputId": "0875b3b2-a8eb-42bc-8763-f319df469dd2"
      },
      "execution_count": 2,
      "outputs": [
        {
          "output_type": "stream",
          "name": "stdout",
          "text": [
            "enter a sentencei am mounika i am currently pursuing my mtech\n",
            "i 2\n",
            "am 2\n",
            "mounika 1\n",
            "currently 1\n",
            "pursuing 1\n",
            "my 1\n",
            "mtech 1\n"
          ]
        }
      ]
    },
    {
      "cell_type": "code",
      "source": [
        "def ispali(s):\n",
        "  l=len(s)\n",
        "  s1=s[::-1]\n",
        "  if s1==s:\n",
        "    return True\n",
        "  else:\n",
        "    return False\n",
        "\n",
        "n=input(\"enter\")\n",
        "ispali(n)"
      ],
      "metadata": {
        "colab": {
          "base_uri": "https://localhost:8080/"
        },
        "id": "cxclA4TC3zcG",
        "outputId": "4ca40535-2bcb-421d-cc20-f6385d063c30"
      },
      "execution_count": 4,
      "outputs": [
        {
          "name": "stdout",
          "output_type": "stream",
          "text": [
            "entersnsns\n"
          ]
        },
        {
          "output_type": "execute_result",
          "data": {
            "text/plain": [
              "True"
            ]
          },
          "metadata": {},
          "execution_count": 4
        }
      ]
    },
    {
      "cell_type": "code",
      "source": [],
      "metadata": {
        "id": "qUsgHcQc5AHL"
      },
      "execution_count": 4,
      "outputs": []
    }
  ]
}